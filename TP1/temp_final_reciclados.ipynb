{
  "nbformat": 4,
  "nbformat_minor": 0,
  "metadata": {
    "colab": {
      "provenance": [],
      "include_colab_link": true
    },
    "kernelspec": {
      "name": "python3",
      "display_name": "Python 3"
    },
    "language_info": {
      "name": "python"
    }
  },
  "cells": [
    {
      "cell_type": "markdown",
      "metadata": {
        "id": "view-in-github",
        "colab_type": "text"
      },
      "source": [
        "<a href=\"https://colab.research.google.com/github/wolffang0727/Calculos/blob/main/TP1/temp_final_reciclados.ipynb\" target=\"_parent\"><img src=\"https://colab.research.google.com/assets/colab-badge.svg\" alt=\"Open In Colab\"/></a>"
      ]
    },
    {
      "cell_type": "code",
      "execution_count": 3,
      "metadata": {
        "id": "b7p6HvP7RP63",
        "outputId": "3b912c8a-4bfd-4f5b-9354-e4056471d135",
        "colab": {
          "base_uri": "https://localhost:8080/"
        }
      },
      "outputs": [
        {
          "output_type": "stream",
          "name": "stdout",
          "text": [
            "La temperatura final del agua es: 27.14 °C\n"
          ]
        }
      ],
      "source": [
        "# Importamos las librerías necesarias\n",
        "import numpy as np\n",
        "\n",
        "# Datos de entrada ajustados\n",
        "T_i = 23.7  # Temperatura inicial en °C\n",
        "A = 0.5  # Área de los tubos en m²\n",
        "t = 300  # Tiempo de exposición en segundos (ejemplo ajustado: 5 minutos)\n",
        "I = 800  # Flujo de energía solar en W/m² (valor ajustado)\n",
        "eta = 0.6  # Eficiencia de transferencia de energía\n",
        "m = 5000  # Masa de agua en gramos (ejemplo ajustado: 5 kg)\n",
        "c = 4.186  # Calor específico del agua en J/g°C\n",
        "\n",
        "# Cálculo de Q (energía transferida EN JOULES)\n",
        "Q = eta * I * A * t  # en joules\n",
        "\n",
        "# Cálculo de ΔT (cambio de temperatura)(FORMULA DE CALOR SENSIBLE)\n",
        "delta_T = Q / (m * c)\n",
        "\n",
        "# Cálculo de la temperatura final\n",
        "T_f = T_i + delta_T\n",
        "\n",
        "# Mostrar el resultado\n",
        "print(f\"La temperatura final del agua es: {T_f:.2f} °C\")"
      ]
    }
  ]
}